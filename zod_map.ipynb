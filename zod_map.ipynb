{
 "cells": [
  {
   "cell_type": "markdown",
   "metadata": {},
   "source": []
  },
  {
   "cell_type": "code",
   "execution_count": null,
   "metadata": {},
   "outputs": [
    {
     "data": {
      "application/vnd.jupyter.widget-view+json": {
       "model_id": "e4877e2f969d40858977d0ed61d31ed8",
       "version_major": 2,
       "version_minor": 0
      },
      "text/plain": [
       "Loading infos: 0it [00:00, ?it/s]"
      ]
     },
     "metadata": {},
     "output_type": "display_data"
    }
   ],
   "source": [
    "import csv\n",
    "import math\n",
    "\n",
    "from typing import List\n",
    "\n",
    "import numpy as np\n",
    "from matplotlib import pyplot as plt\n",
    "# import the ZOD DevKit\n",
    "from zod import ZodFrames\n",
    "from zod import ZodSequences\n",
    "from zod import ZodDrives\n",
    "from datetime import datetime, timezone\n",
    "\n",
    "# import default constants\n",
    "import zod.constants as constants\n",
    "from zod.constants import Camera, Lidar, Anonymization, AnnotationProject\n",
    "\n",
    "# import useful data classes\n",
    "from zod.data_classes import LidarData\n",
    "\n",
    "#for loading zod data\n",
    "zod_dataset = \"/datasets/zod\"  # your local path to zod\n",
    "version = \"full\"  # \"mini\" or \"full\"\n",
    "\n",
    "# initialize ZodSequences\n",
    "zod_drives = ZodDrives(dataset_root=zod_dataset, version=version)\n",
    "\n",
    "import json\n",
    "\n",
    "zod_frames = ZodFrames(dataset_root=zod_dataset, version=version)\n",
    "print(len(zod_frames))\n",
    "\n",
    "\n"
   ]
  },
  {
   "cell_type": "code",
   "execution_count": null,
   "metadata": {},
   "outputs": [],
   "source": [
    "import json\n",
    "import os\n",
    "from tqdm import tqdm\n",
    "\n",
    "parent_folder = \"/home/bjangley/VPR/mapillary_utils/zod\"  \n",
    "\n",
    "# Ensure the output folder exists; create it if it doesn't\n",
    "if not os.path.exists(parent_folder):\n",
    "    print(\"Output Folder Does Not Exist\")\n",
    "    exit()  \n",
    "\n",
    "\n",
    "all_frames_data = {} #dictionary to store all frame data\n",
    "print(\"Number of Frames: \",len(zod_frames))\n",
    "\n",
    "# Iterate through each frame in zod_frames\n",
    "for i in tqdm(range(len(zod_frames)), desc=\"Processing frames\", unit=\"frame\", total=len(zod_frames)):\n",
    "    item = zod_frames[i]\n",
    "    lat = item.metadata.latitude\n",
    "    long = item.metadata.longitude\n",
    "    frame_id = item.metadata.frame_id\n",
    "    country_code = item.metadata.country_code\n",
    "\n",
    "    # Prepare the data dictionary for this frame\n",
    "    frame_data = {\n",
    "        'lat':lat,\n",
    "        'long':long,\n",
    "        'country_code': country_code\n",
    "        }\n",
    "    \n",
    "    all_frames_data[frame_id] = frame_data\n",
    "\n",
    "# Specify the output JSON file path\n",
    "output_file_path = os.path.join(parent_folder, \"frames_v1.json\")\n",
    "# Save the dictionary to a single JSON file\n",
    "with open(output_file_path, \"w\") as json_file:\n",
    "    json.dump(all_frames_data, json_file, indent=4)\n",
    "\n",
    "print(f\"\\nAll frames saved to {output_file_path}.\")\n",
    "\n",
    "print(\"Number of frames processed: \",len(all_frames_data.keys()))\n"
   ]
  }
 ],
 "metadata": {
  "kernelspec": {
   "display_name": "plotting",
   "language": "python",
   "name": "python3"
  },
  "language_info": {
   "codemirror_mode": {
    "name": "ipython",
    "version": 3
   },
   "file_extension": ".py",
   "mimetype": "text/x-python",
   "name": "python",
   "nbconvert_exporter": "python",
   "pygments_lexer": "ipython3",
   "version": "3.9.21"
  },
  "orig_nbformat": 4
 },
 "nbformat": 4,
 "nbformat_minor": 2
}
